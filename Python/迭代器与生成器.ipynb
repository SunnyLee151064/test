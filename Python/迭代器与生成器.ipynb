{
 "cells": [
  {
   "cell_type": "code",
   "execution_count": 1,
   "metadata": {},
   "outputs": [
    {
     "data": {
      "text/plain": [
       "1"
      ]
     },
     "execution_count": 1,
     "metadata": {},
     "output_type": "execute_result"
    }
   ],
   "source": [
    "# iter方法 字符串，列表或者元组都可以用来创建迭代器\n",
    "list = [1,2,3,4]\n",
    "it = iter(list)\n",
    "next(it)\n"
   ]
  },
  {
   "cell_type": "code",
   "execution_count": 2,
   "metadata": {},
   "outputs": [
    {
     "name": "stdout",
     "output_type": "stream",
     "text": [
      "0 is 2\n",
      "1 is 4\n",
      "2 is 6\n"
     ]
    }
   ],
   "source": [
    "# enumerate方法可以同时获得下标的值\n",
    "x = [2,4,6]\n",
    "for i,num in enumerate(x):\n",
    "    print(i,'is',num)"
   ]
  },
  {
   "cell_type": "code",
   "execution_count": 3,
   "metadata": {},
   "outputs": [],
   "source": [
    "# 自定义一个迭代器\n",
    "# 自定义迭代器需要定义__iter__,__next__方法，前者返回一个特殊的迭代器对象，后者会返回下一个迭代器对象\n",
    "class ReverseListIterator:\n",
    "    \"\"\"实现列表的反向输出\"\"\"\n",
    "    def __init__(self,lst):\n",
    "        self.list = lst\n",
    "        self.index = len(lst)\n",
    "    \n",
    "    def __iter__(self):\n",
    "        return self\n",
    "\n",
    "    def __next__(self):\n",
    "        self.index -= 1\n",
    "        if self.index >= 0:\n",
    "            \"\"\"返回下一个迭代对象\"\"\"\n",
    "            return self.list[self.index]\n",
    "        else:\n",
    "            \"\"\"最后的时候中止\"\"\"\n",
    "            raise StopIteration\n"
   ]
  },
  {
   "cell_type": "code",
   "execution_count": 4,
   "metadata": {},
   "outputs": [
    {
     "data": {
      "text/plain": [
       "5"
      ]
     },
     "execution_count": 4,
     "metadata": {},
     "output_type": "execute_result"
    }
   ],
   "source": [
    "x = [1,2,3,4,5]\n",
    "it = ReverseListIterator(x)\n",
    "next(it)"
   ]
  },
  {
   "cell_type": "code",
   "execution_count": 1,
   "metadata": {},
   "outputs": [
    {
     "name": "stdout",
     "output_type": "stream",
     "text": [
      "16\n",
      "8.0\n",
      "4.0\n",
      "2.0\n",
      "1.0\n"
     ]
    }
   ],
   "source": [
    "# 实现Collatz猜想\n",
    "class Collatz:\n",
    "    def __init__(self,start):\n",
    "        self.value = start\n",
    "\n",
    "    def __iter__(self):\n",
    "        return self\n",
    "\n",
    "    def __next__(self):\n",
    "        if self.value == 1:\n",
    "            raise StopIteration\n",
    "        elif self.value%2 == 0:\n",
    "            self.value = self.value/2\n",
    "            return self.value\n",
    "        else:\n",
    "            self.value = self.value*3+1\n",
    "            return self.value\n",
    "\n",
    "\n",
    "# 迭代器的内容可以使用for循环进行输出\n",
    "for i in Collatz(5):\n",
    "    print(i)   "
   ]
  },
  {
   "cell_type": "markdown",
   "metadata": {},
   "source": [
    "迭代对象本身不一定是迭代器，但可以通过其 __iter__() 方法得到对应的迭代器对象。定义可迭代对象，必须实现 __iter__() 方法；定义迭代器，必须实现 __iter__() 和 __next__() 方法。"
   ]
  },
  {
   "cell_type": "code",
   "execution_count": 2,
   "metadata": {},
   "outputs": [
    {
     "name": "stdout",
     "output_type": "stream",
     "text": [
      "16\n",
      "8.0\n",
      "4.0\n",
      "2.0\n",
      "1.0\n"
     ]
    }
   ],
   "source": [
    "# 跟普通函数不同的是，生成器是一个返回迭代器的函数，只能用于迭代操作，更简单点理解生成器就是一个迭代器。\n",
    "def collatz(n):\n",
    "    while n!= 1:\n",
    "        if n%2 ==0:\n",
    "            n/=2\n",
    "        else:\n",
    "            n = n*3+1\n",
    "        yield n\n",
    "\n",
    "for x in collatz(5):\n",
    "    print(x)\n",
    "\n",
    "    "
   ]
  },
  {
   "cell_type": "code",
   "execution_count": 3,
   "metadata": {},
   "outputs": [
    {
     "data": {
      "text/plain": [
       "3.0"
      ]
     },
     "execution_count": 3,
     "metadata": {},
     "output_type": "execute_result"
    }
   ],
   "source": [
    "# 事实上生成器也是一种迭代器，且支持next方法\n",
    "x = collatz(6)\n",
    "next(x)"
   ]
  },
  {
   "cell_type": "code",
   "execution_count": 4,
   "metadata": {},
   "outputs": [
    {
     "data": {
      "text/plain": [
       "10.0"
      ]
     },
     "execution_count": 4,
     "metadata": {},
     "output_type": "execute_result"
    }
   ],
   "source": [
    "next(x)"
   ]
  },
  {
   "cell_type": "code",
   "execution_count": 5,
   "metadata": {},
   "outputs": [
    {
     "data": {
      "text/plain": [
       "5.0"
      ]
     },
     "execution_count": 5,
     "metadata": {},
     "output_type": "execute_result"
    }
   ],
   "source": [
    "next(x)"
   ]
  }
 ],
 "metadata": {
  "interpreter": {
   "hash": "07efdcd4b820c98a756949507a4d29d7862823915ec7477944641bea022f4f62"
  },
  "kernelspec": {
   "display_name": "Python 3.7.0 ('base')",
   "language": "python",
   "name": "python3"
  },
  "language_info": {
   "codemirror_mode": {
    "name": "ipython",
    "version": 3
   },
   "file_extension": ".py",
   "mimetype": "text/x-python",
   "name": "python",
   "nbconvert_exporter": "python",
   "pygments_lexer": "ipython3",
   "version": "3.7.0"
  },
  "orig_nbformat": 4
 },
 "nbformat": 4,
 "nbformat_minor": 2
}
